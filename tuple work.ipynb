{
 "cells": [
  {
   "cell_type": "code",
   "execution_count": 7,
   "id": "5b983b1c",
   "metadata": {},
   "outputs": [
    {
     "name": "stdout",
     "output_type": "stream",
     "text": [
      "[-1.0, 23.666666666666668, -6.0, -1.6666666666666667]\n"
     ]
    }
   ],
   "source": [
    "or_tuple= ((1, 1, -5), (30, -15, 56), (81, -60, -39), (-10, 2, 3))\n",
    "lst=list(or_tuple)\n",
    "lst1=[]\n",
    "for i in lst:\n",
    "    lst1.append(sum(i)/len(i))\n",
    "print(lst1)\n",
    "\n",
    "        "
   ]
  },
  {
   "cell_type": "code",
   "execution_count": 16,
   "id": "cf1d0fe7",
   "metadata": {},
   "outputs": [
    {
     "name": "stdout",
     "output_type": "stream",
     "text": [
      "[('aa', 30), ('aaaa', 28), ('bab', 29), ('bb', 21), ('csa', 'C')]\n"
     ]
    }
   ],
   "source": [
    "tpl= [(\"aaaa\", 28), (\"aa\", 30), (\"bab\", 29), (\"bb\", 21), (\"csa\", \"C\")]\n",
    "tpl.sort(key=lambda x:x[0])\n",
    "print(tpl)\n",
    "        \n",
    "    "
   ]
  },
  {
   "cell_type": "code",
   "execution_count": 8,
   "id": "ef91189a",
   "metadata": {},
   "outputs": [
    {
     "name": "stdout",
     "output_type": "stream",
     "text": [
      "{4: 2, 5: 3, 6: 2}\n"
     ]
    }
   ],
   "source": [
    "inp= (4, 5, 4, 5, 6, 6, 5) \n",
    "res = dict()\n",
    "x=list(inp)\n",
    "for i in x:\n",
    "    res[i]=x.count(i)\n",
    "print(res)"
   ]
  }
 ],
 "metadata": {
  "kernelspec": {
   "display_name": "Python 3 (ipykernel)",
   "language": "python",
   "name": "python3"
  },
  "language_info": {
   "codemirror_mode": {
    "name": "ipython",
    "version": 3
   },
   "file_extension": ".py",
   "mimetype": "text/x-python",
   "name": "python",
   "nbconvert_exporter": "python",
   "pygments_lexer": "ipython3",
   "version": "3.9.12"
  }
 },
 "nbformat": 4,
 "nbformat_minor": 5
}
