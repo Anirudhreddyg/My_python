{
 "cells": [
  {
   "cell_type": "markdown",
   "id": "42f1f5e6",
   "metadata": {},
   "source": [
    "## Write a python program to convert a string to lower case\n"
   ]
  },
  {
   "cell_type": "markdown",
   "id": "b2dfa672",
   "metadata": {},
   "source": [
    "1. Write a python program to convert a string to lower case\n"
   ]
  },
  {
   "cell_type": "code",
   "execution_count": 3,
   "id": "408bc7de",
   "metadata": {},
   "outputs": [
    {
     "name": "stdout",
     "output_type": "stream",
     "text": [
      "Enter any word here: SDFGsdgf\n",
      "lower case output:  sdfgsdgf\n"
     ]
    }
   ],
   "source": [
    "user=input('Enter any word here: ')\n",
    "print('lower case output: ', user.lower())"
   ]
  },
  {
   "cell_type": "markdown",
   "id": "7afa0951",
   "metadata": {},
   "source": [
    "2. Write a python program to convert only odd indexed characters to lower case\n",
    "> Ex: PYTHON\n",
    "  Output: - PyThOn"
   ]
  },
  {
   "cell_type": "code",
   "execution_count": 63,
   "id": "28668093",
   "metadata": {},
   "outputs": [
    {
     "name": "stdout",
     "output_type": "stream",
     "text": [
      "enter your text here: PYTHON\n",
      "PyThOn\n"
     ]
    }
   ],
   "source": [
    "str_=input('enter your text here: ')\n",
    "l=list(str_)\n",
    "l1=[]\n",
    "for i in range(len(l)):\n",
    "    if i%2!=0:\n",
    "        l1.append(l[i].lower())\n",
    "    else:\n",
    "        l1.append(l[i])\n",
    "print(''.join(l1))\n",
    "        \n",
    "        \n",
    "        "
   ]
  },
  {
   "cell_type": "markdown",
   "id": "8bc90676",
   "metadata": {},
   "source": [
    "3. Write a python program to convert only even indexed characters to lower case\n",
    ">Ex: PYTHON\n",
    " Output: - pYtHoN"
   ]
  },
  {
   "cell_type": "code",
   "execution_count": 64,
   "id": "0154e4d7",
   "metadata": {},
   "outputs": [
    {
     "name": "stdout",
     "output_type": "stream",
     "text": [
      "enter your text here: PYTHON\n",
      "pYtHoN\n"
     ]
    }
   ],
   "source": [
    "str_=input('enter your text here: ')\n",
    "l=list(str_)\n",
    "l1=[]\n",
    "for i in range(len(l)):\n",
    "    if i%2==0:\n",
    "        l1.append(l[i].lower())\n",
    "    else:\n",
    "        l1.append(l[i])\n",
    "print(''.join(l1))"
   ]
  },
  {
   "cell_type": "markdown",
   "id": "41342b09",
   "metadata": {},
   "source": [
    "4. Write a python program to convert only odd indexed characters to upper case\n",
    ">Ex: python\n",
    " Output: pYtHoN"
   ]
  },
  {
   "cell_type": "code",
   "execution_count": 65,
   "id": "cbf7f478",
   "metadata": {},
   "outputs": [
    {
     "name": "stdout",
     "output_type": "stream",
     "text": [
      "enter your text here: python\n",
      "pYtHoN\n"
     ]
    }
   ],
   "source": [
    "str_=input('enter your text here: ')\n",
    "l=list(str_)\n",
    "l1=[]\n",
    "for i in range(len(l)):\n",
    "    if i%2!=0:\n",
    "        l1.append(l[i].upper())\n",
    "    else:\n",
    "        l1.append(l[i])\n",
    "print(''.join(l1))"
   ]
  },
  {
   "cell_type": "markdown",
   "id": "84759122",
   "metadata": {},
   "source": [
    "5. Write a python program to convert only even indexed characters to upper case\n",
    "> Ex: python\n",
    " Output: - PyThOn"
   ]
  },
  {
   "cell_type": "code",
   "execution_count": 67,
   "id": "b6c84fe7",
   "metadata": {},
   "outputs": [
    {
     "name": "stdout",
     "output_type": "stream",
     "text": [
      "enter your text here: python\n",
      "PyThOn\n"
     ]
    }
   ],
   "source": [
    "str_=input('enter your text here: ')\n",
    "l=list(str_)\n",
    "l1=[]\n",
    "for i in range(len(l)):\n",
    "    if i%2==0:\n",
    "        l1.append(l[i].upper())\n",
    "    else:\n",
    "        l1.append(l[i])\n",
    "print(''.join(l1))"
   ]
  },
  {
   "cell_type": "markdown",
   "id": "bbab50bd",
   "metadata": {},
   "source": [
    "6. Write a python program where you have different variable which contains your name, gender, age, phone number, father’s name and mother’s name. And by using this variable create a variable named bio-data where you will use all this variable\n",
    ">Ex: print(bio-data)\n",
    " Output:- My name is …., My age is ….,My phone-no is ….,my father’s name is …,and my mother’s name is…"
   ]
  },
  {
   "cell_type": "code",
   "execution_count": 3,
   "id": "9f7262c3",
   "metadata": {},
   "outputs": [
    {
     "name": "stdout",
     "output_type": "stream",
     "text": [
      "Enter your name: Anirudh\n",
      "Enter your age: 343\n",
      "Enter your phone number: 793453453434\n",
      "Enter your father name: adfas\n",
      "Enter your mother's name name: adsfasdf\n",
      "My name is Anirudh and I'm 343. My parents are adfas and adsfasdf. Here's my phone number793453453434\n"
     ]
    }
   ],
   "source": [
    "name=input('Enter your name: ')\n",
    "age=int(input('Enter your age: '))\n",
    "phone=int(input('Enter your phone number: '))\n",
    "father=input('Enter your father name: ')\n",
    "mother=input(\"Enter your mother's name name: \")\n",
    "bio_data=\"My name is {0} and I'm {1}. My parents are {3} and {4}. Here's my phone number {2}\".format(name,age,phone,father,mother)\n",
    "print(bio_data)"
   ]
  },
  {
   "cell_type": "code",
   "execution_count": 5,
   "id": "010e07a7",
   "metadata": {},
   "outputs": [
    {
     "name": "stdout",
     "output_type": "stream",
     "text": [
      "My name is Anriudh, My age is 30,My phone-no is xxxxxx,my father’s name is xxxxxx,and\n",
      "my mother’s name is xxxx\n"
     ]
    }
   ],
   "source": [
    "bio_data=\"\"\"My name is Anriudh, My age is 30, My phone-no is xxxxxx, my father’s name is xxxxxx,and\n",
    "my mother’s name is xxxx\"\"\"\n",
    "print(bio_data)"
   ]
  },
  {
   "cell_type": "markdown",
   "id": "18657e3e",
   "metadata": {},
   "source": [
    "7. Write a python program to count how many times “@” occurred\n",
    "Ex: S@ndhy@\n",
    "Output: 2\n"
   ]
  },
  {
   "cell_type": "code",
   "execution_count": 17,
   "id": "3a606fde",
   "metadata": {},
   "outputs": [
    {
     "name": "stdout",
     "output_type": "stream",
     "text": [
      "Enter the value: S@ndhy@ \n",
      "Occurance of @ is:  2\n"
     ]
    }
   ],
   "source": [
    "st= input('Enter the value: ')\n",
    "print('Occurance of @ is: ', st.count('@'))"
   ]
  },
  {
   "cell_type": "markdown",
   "id": "863f83dd",
   "metadata": {},
   "source": [
    "8. Write a python program to get only names from the string\n",
    ">Ex: “name1.@gmail.com, name2.@gmail.com, name#3.@gmail.com”\n",
    " Output-name1, name2, name3"
   ]
  },
  {
   "cell_type": "code",
   "execution_count": 50,
   "id": "200d6f1a",
   "metadata": {},
   "outputs": [
    {
     "name": "stdout",
     "output_type": "stream",
     "text": [
      "enter your email address: name1.@gmail.com, name2.@gmail.com, name#3.@gmail.com\n",
      "name1., name2., name#3.,"
     ]
    }
   ],
   "source": [
    "st=input('enter your email address: ')#workaround\n",
    "st1=input('enter your email address: ')\n",
    "st2=input('enter your email address: ')\n",
    "a=st.split('@')\n",
    "b=st1.split('@')\n",
    "c=st2.split('@')\n",
    "print(a[0],b[0],c[0],sep=',')\n",
    "\n",
    "\n",
    "st=input('enter your email address: ')#method 2 using for loop and for multiple inputs\n",
    "a=st.split(',')\n",
    "l=[]\n",
    "for i in a:\n",
    "    b=i.split('@')\n",
    "    print(b[0], end=',')\n",
    "    \n"
   ]
  },
  {
   "cell_type": "markdown",
   "id": "19b54d55",
   "metadata": {},
   "source": [
    "9. Write a program to remove vowels from the entire alphabets\n",
    ">Ex: “abcdefghijklmnopqrstuvwxyz”\n",
    " Output: “bcdfghjklmnpqrstvwxyz”\n"
   ]
  },
  {
   "cell_type": "code",
   "execution_count": 6,
   "id": "3e8a2308",
   "metadata": {},
   "outputs": [
    {
     "name": "stdout",
     "output_type": "stream",
     "text": [
      "Enter here: abcdefghijklmnopqrstuvwxyz\n",
      "Output:  bcdfghjklmnpqrstvwxyz\n"
     ]
    }
   ],
   "source": [
    "\"\"\"\n",
    "usr=input('Enter here: ')\n",
    "a=list(usr)\n",
    "lst=[]\n",
    "for x in a:\n",
    "    if x!='a' and x!='e' and x!='o'and x!='i'and x!='u':\n",
    "        lst.append(x)\n",
    "c=\"\".join(lst)\n",
    "print('Output: ', c)\n",
    "\"\"\"\n",
    "#method 2\n",
    "usr=input('Enter here: ')\n",
    "a=list(usr)\n",
    "lst=[]\n",
    "for x in a:\n",
    "    if x not in ['a','e','i','o','u']:\n",
    "        lst.append(x)\n",
    "c=\"\".join(lst)\n",
    "print('Output: ', c)\n"
   ]
  },
  {
   "cell_type": "markdown",
   "id": "3be89d0b",
   "metadata": {},
   "source": [
    "10. Find all occurrences of a substring in a given string by ignoring the case\n",
    "Ex: str1 = \"Welcome to Innomatics. innomatics awesome, isn't it?\"\n",
    "Output: The innomatics count is: 2"
   ]
  },
  {
   "cell_type": "code",
   "execution_count": 4,
   "id": "baef0bf0",
   "metadata": {},
   "outputs": [
    {
     "name": "stdout",
     "output_type": "stream",
     "text": [
      "2\n"
     ]
    }
   ],
   "source": [
    "str1 = \"Welcome to Innomatics. innomatics awesome, isn't it?\"\n",
    "l=str1.split('.')\n",
    "s='innomatics'\n",
    "count=0\n",
    "st_='innomatics'\n",
    "for i in l:\n",
    "    if s in i.lower():\n",
    "        count+=1\n",
    "print(count)"
   ]
  },
  {
   "cell_type": "code",
   "execution_count": null,
   "id": "b161a12a",
   "metadata": {},
   "outputs": [],
   "source": [
    "\n"
   ]
  }
 ],
 "metadata": {
  "kernelspec": {
   "display_name": "Python 3 (ipykernel)",
   "language": "python",
   "name": "python3"
  },
  "language_info": {
   "codemirror_mode": {
    "name": "ipython",
    "version": 3
   },
   "file_extension": ".py",
   "mimetype": "text/x-python",
   "name": "python",
   "nbconvert_exporter": "python",
   "pygments_lexer": "ipython3",
   "version": "3.9.12"
  }
 },
 "nbformat": 4,
 "nbformat_minor": 5
}
