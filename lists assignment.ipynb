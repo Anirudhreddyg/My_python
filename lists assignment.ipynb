{
 "cells": [
  {
   "cell_type": "markdown",
   "id": "f222e522",
   "metadata": {},
   "source": [
    "Write a Python program to sum all the items and multiply all the items "
   ]
  },
  {
   "cell_type": "code",
   "execution_count": 24,
   "id": "58062f1f",
   "metadata": {},
   "outputs": [],
   "source": [
    "def sm(l):#defining the function\n",
    "    sum_=0\n",
    "    mul=1\n",
    "    for i in range(len(l)):\n",
    "        sum_+=l[i]\n",
    "        mul*=l[i]\n",
    "    print('Sum and multiplication of the given list are: {} and {}'.format(sum_,mul))"
   ]
  },
  {
   "cell_type": "code",
   "execution_count": 25,
   "id": "9049943b",
   "metadata": {},
   "outputs": [
    {
     "name": "stdout",
     "output_type": "stream",
     "text": [
      "Sum and multiplication of the given list are: 15 and 192\n"
     ]
    }
   ],
   "source": [
    "sm([2,4,3,2,4])"
   ]
  },
  {
   "cell_type": "markdown",
   "id": "1a9023e6",
   "metadata": {},
   "source": [
    "Write a Python program to compute the difference between two lists.  [\"red\", \"orange\", \"green\", \"blue\", \"white\"], [\"black\", \"yellow\", \"green\", \"blue\"]"
   ]
  },
  {
   "cell_type": "code",
   "execution_count": null,
   "id": "47e833e2",
   "metadata": {},
   "outputs": [],
   "source": [
    "l1= [\"red\", \"orange\", \"green\", \"blue\", \"white\"]#method one converting into set\n",
    "l2=[\"black\", \"yellow\", \"green\", \"blue\"]\n",
    "print(list(set(l1)-set(l2)))\n",
    "print(list(set(l2)-set(l1)))"
   ]
  },
  {
   "cell_type": "code",
   "execution_count": 2,
   "id": "0c93db77",
   "metadata": {},
   "outputs": [
    {
     "name": "stdout",
     "output_type": "stream",
     "text": [
      "['black', 'yellow']\n",
      "['red', 'orange', 'white']\n"
     ]
    }
   ],
   "source": [
    "l1= [\"red\", \"orange\", \"green\", \"blue\", \"white\"]#method two using for and if conditon\n",
    "l2=[\"black\", \"yellow\", \"green\", \"blue\"]\n",
    "l1l2=[]\n",
    "l2l1=[]\n",
    "for i in l2:\n",
    "    if i not in l1:\n",
    "        l1l2.append(i)\n",
    "for x in l1:\n",
    "    if x not in l2:\n",
    "        l2l1.append(x)\n",
    "print(l1l2)\n",
    "print(l2l1)"
   ]
  },
  {
   "cell_type": "markdown",
   "id": "3f06d6bc",
   "metadata": {},
   "source": [
    "Write a Python function that takes two lists and returns True if they have at least one common\n",
    "member. \n",
    "+ Example:\n",
    "+ [1,2,3,4,5], [5,6,7,8,9] = True\n",
    "+ [1,2,3,4,5], [6,7,8,9] = None \n"
   ]
  },
  {
   "cell_type": "code",
   "execution_count": 7,
   "id": "918e279d",
   "metadata": {},
   "outputs": [
    {
     "data": {
      "text/plain": [
       "True"
      ]
     },
     "execution_count": 7,
     "metadata": {},
     "output_type": "execute_result"
    }
   ],
   "source": [
    "def two_lists(a,b):\n",
    "    for i in a:\n",
    "        for j in b:\n",
    "            if i==j:\n",
    "                return  True\n",
    "            else:\n",
    "                pass\n",
    "two_lists([1,2,3,4,5],[5,6,7,8,9])"
   ]
  }
 ],
 "metadata": {
  "kernelspec": {
   "display_name": "Python 3 (ipykernel)",
   "language": "python",
   "name": "python3"
  },
  "language_info": {
   "codemirror_mode": {
    "name": "ipython",
    "version": 3
   },
   "file_extension": ".py",
   "mimetype": "text/x-python",
   "name": "python",
   "nbconvert_exporter": "python",
   "pygments_lexer": "ipython3",
   "version": "3.9.12"
  }
 },
 "nbformat": 4,
 "nbformat_minor": 5
}
